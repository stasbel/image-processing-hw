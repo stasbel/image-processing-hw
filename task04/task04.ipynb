{
 "cells": [
  {
   "cell_type": "markdown",
   "metadata": {},
   "source": [
    "# Домашнее задание №4\n",
    "\n",
    "Задание присылать на почту **aleksartmonov@gmail.com** в форматах *.ipynb* и отрендеренный результат в *.html*\n",
    "\n",
    "В теме письма указать **AU2018 HW4 <Фамилия Имя>**\n",
    "\n",
    "soft deadline: 8.04.2018T23:59:00+0300\n",
    "\n",
    "hard deadline: 15.04.2018T23:59:00+0300\n"
   ]
  },
  {
   "cell_type": "markdown",
   "metadata": {},
   "source": [
    "### Поиск изображений по содержанию (30 баллов)\n",
    "\n",
    "Вам предстоит построить систему, которая позволит выполнить поиск изображений по содержанию в базе Corel-10k, которая приложена к домашнему заданию. База состоит из 100 классов изображений по 100 изображений в каждом классе. Имя каждого изображения в базе состоит из **X.JPEG**, где X - число от 1 до 10000. Изображения из одного класса лежат подряд в промежутке 1-100, 101-200, и тд. В файле **test.dat** лежит список картинок, которые не должны участвовать в построении поисковой базы, но по которым надо будет сделать 1000 поисковых запросов. Ограничение по памяти -- 2Гб.\n",
    "\n",
    "1. По изображениям не попавшим в **test.dat** посчитайте дескриптор с помощью алгоритма GIST.\n",
    "   \n",
    "2. Разбейте дескрипторы всех изображений на 100 кластеров с помощью K-Means.\n",
    "\n",
    "3. Для каждого кластера постройте функцию хэширования (LSH), с помощью которой закодируйте каждое изображение в тренировочной выборке.\n",
    "\n",
    "4. Релизуйте функцию `retrieve` и сделайте 1000 запросов изображениями из файла **test.dat**.\n",
    "\n",
    "5. Продемонстрируйте работу `retrieve` на 5-ти случайных изображениях из **test.dat**. Замерьте время исполнения поискового запроса. Сделайте возможность вызвать `retrieve` без построения индекса, то есть приложите в решение индексированную базу, если только время построения индекса не укладывается в 1 минуту.  \n",
    "    \n",
    "6. Для каждого запроса нужно оценить APk, где k=10 и посчитать среднее значение этой величины по всем запросам (MAPk).\n",
    "\n",
    "Так же за это задание можно получить еще до 20-ти дополнительных баллов. Качество поиска вы посчитаете сами, а вот со скоростью есть некоторые трудности, реализуйте ваше решение таким образом, чтобы я мог из командной строки вызвать:\n",
    "\n",
    "`python cbir.py --retrieve /path/to/image`\n",
    "\n",
    "1. Вы можете сделать быстрый поиск. Если качество вашего поиска окажется выше, чем медиана качества по всем поисковым движкам, то вы принимаете участие в борьбе за 10 призовых баллов. Первое место получает 10 баллов и шоколадку, второе 9, третье 8 и т.д. \n",
    "\n",
    "2. Вы можете сделать хороший поиск. Если ваш поиск окажется быстрее, чем медиана среднего времени работы других участников, то вы принимаете участие в борьбе за точный поиск. Распределение баллов здесь будет такое же как и в конкурсе на скорость. \n",
    "\n",
    "Для достижения лучших результатов вам придется регулировать несколько параметров алгоритма:\n",
    "- Дескриптор. Можете взять что угодно вместо GIST\n",
    "- Количество кластеров k-means\n",
    "- Длину кода LSH\n",
    "- etc \n",
    "\n",
    "Принципиально нельзя использовать готовые поисковые движки. И помните о том, что время поиска очень важный параметр.\n",
    "\n",
    "Удачи!\n"
   ]
  },
  {
   "cell_type": "code",
   "execution_count": 1,
   "metadata": {},
   "outputs": [],
   "source": [
    "import cv2\n",
    "import gist\n",
    "import tqdm\n",
    "import zipfile\n",
    "import numpy as np\n",
    "\n",
    "from sklearn.cluster import KMeans\n",
    "from sklearn.datasets.lfw import Bunch"
   ]
  },
  {
   "cell_type": "code",
   "execution_count": 2,
   "metadata": {},
   "outputs": [],
   "source": [
    "args = Bunch()\n",
    "args.train_zip_path = 'Corel.zip'\n",
    "args.test_file_path = 'test.dat'"
   ]
  },
  {
   "cell_type": "code",
   "execution_count": 8,
   "metadata": {},
   "outputs": [
    {
     "name": "stderr",
     "output_type": "stream",
     "text": [
      "10001it [00:00, 1376221.60it/s]          \n"
     ]
    },
    {
     "data": {
      "text/plain": [
       "10001"
      ]
     },
     "execution_count": 8,
     "metadata": {},
     "output_type": "execute_result"
    }
   ],
   "source": [
    "Xf_train = []\n",
    "Xg_train = []\n",
    "\n",
    "with zipfile.ZipFile(args.train_zip_path, 'r') as z:\n",
    "    names = (n for n in z.namelist() if n.lower().endswith('jpg'))\n",
    "    for n in tqdm.tqdm(names, total=10000):\n",
    "        Xf_train.append(n)\n",
    "        img = cv2.imdecode(np.frombuffer(z.open(n).read(), dtype=np.uint8), -1)\n",
    "        Xg_train.append(gist.extract(img))\n",
    "\n",
    "# Xg_train = np.vstack(Xg_train)\n",
    "# len(Xf_train), Xg_train.shape\n",
    "len(Xf_train)"
   ]
  },
  {
   "cell_type": "code",
   "execution_count": 10,
   "metadata": {},
   "outputs": [
    {
     "name": "stdout",
     "output_type": "stream",
     "text": [
      "Corel/7235.JPG\n",
      "Corel/7264.JPG\n",
      "Corel/7275.JPG\n",
      "Corel/7280.JPG\n",
      "Corel/Thumbs.db\n"
     ]
    }
   ],
   "source": [
    "for f in Xf_train:\n",
    "    if not f.endswith('jpg'):\n",
    "        print(f)"
   ]
  },
  {
   "cell_type": "code",
   "execution_count": 6,
   "metadata": {},
   "outputs": [
    {
     "name": "stdout",
     "output_type": "stream",
     "text": [
      "'' was not found in history, as a file, url, nor in the user namespace.\n"
     ]
    }
   ],
   "source": [
    "%save Xf_train"
   ]
  },
  {
   "cell_type": "code",
   "execution_count": 15,
   "metadata": {},
   "outputs": [],
   "source": [
    "def get_test_files():\n",
    "    return [l.strip() for l in open(args.test_file_path, 'r')]"
   ]
  },
  {
   "cell_type": "code",
   "execution_count": 17,
   "metadata": {},
   "outputs": [],
   "source": [
    "X_test = get_test_files()"
   ]
  },
  {
   "cell_type": "code",
   "execution_count": null,
   "metadata": {},
   "outputs": [],
   "source": [
    "images"
   ]
  },
  {
   "cell_type": "code",
   "execution_count": null,
   "metadata": {},
   "outputs": [],
   "source": [
    "class CBIR:\n",
    "    def __init__(self):\n",
    "        pass\n",
    "    \n",
    "    def fit(self, X):\n",
    "        pass\n",
    "    \n",
    "    def retrive(self, x: str):\n",
    "        pass  "
   ]
  }
 ],
 "metadata": {
  "kernelspec": {
   "display_name": "Python 3",
   "language": "python",
   "name": "python3"
  },
  "language_info": {
   "codemirror_mode": {
    "name": "ipython",
    "version": 3
   },
   "file_extension": ".py",
   "mimetype": "text/x-python",
   "name": "python",
   "nbconvert_exporter": "python",
   "pygments_lexer": "ipython3",
   "version": "3.6.2"
  }
 },
 "nbformat": 4,
 "nbformat_minor": 2
}
